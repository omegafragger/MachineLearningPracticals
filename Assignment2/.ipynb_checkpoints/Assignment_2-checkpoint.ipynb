{
 "cells": [
  {
   "cell_type": "code",
   "execution_count": 1,
   "metadata": {
    "collapsed": true
   },
   "outputs": [],
   "source": [
    "%matplotlib inline\n",
    "import _pickle as cp\n",
    "import numpy as np\n",
    "import matplotlib.pyplot as plt\n",
    "import operator\n",
    "\n",
    "class NBC:\n",
    "    \n",
    "    def __init__(self, feature_types):\n",
    "        '''Constructor for initializing class attributes'''\n",
    "        self.feature_types = feature_types\n",
    "    \n",
    "    def fit(self, X_train, Y_train):\n",
    "        '''Method to fit an NBC classifier to the given data'''\n",
    "        self.classwise_featurewise_params = self.get_classwise_featurewise_parameters(X_train, Y_train)\n",
    "        self.class_probs = self.get_class_probability(Y_train)\n",
    "        self.classes, counts = self.get_classes(Y_train)\n",
    "\n",
    "    def predict(self, X_new):\n",
    "        '''Method to predict the class of a newly given point'''\n",
    "        class_conditional_probabilities = self.get_class_conditional_probability(X_new, self.classes, self.classwise_featurewise_params)\n",
    "        final_probabilities = {clas: self.class_probs[clas] * class_conditional_probabilities[clas] for clas in self.class_probs}\n",
    "        predicted_class = (max(final_probabilities, key=final_probabilities.get))\n",
    "        return predicted_class, final_probabilities\n",
    "\n",
    "    def get_class_conditional_probability(self, X_new, classes, classwise_featurewise_params):\n",
    "        '''Method to compute the probability of each feature for each\n",
    "        class. Real valued variables are modeled here using the Gaussian\n",
    "        distribution. Categorical variables are modeled using the Multinoulli\n",
    "        distribution and binary features are modeled using the Bernoulli\n",
    "        distribution.'''\n",
    "        \n",
    "        # Modeling each feature for each class\n",
    "        class_conditional_probability = {}\n",
    "    \n",
    "        for clas in classes:\n",
    "            prob = 1\n",
    "            col = 0\n",
    "            for value in X_new:\n",
    "                feature_type = self.feature_types[col]\n",
    "                params = classwise_featurewise_params[clas][col]\n",
    "                if (feature_type == 'b'):\n",
    "                    prob = prob * self.get_Bernoulli_Prob(params, value)\n",
    "                elif (feature_type == 'r'):\n",
    "                    prob = prob * self.get_Gaussian_Prob(params, value)\n",
    "                elif (feature_type == 'c'):\n",
    "                    prob = prob * self.get_Multinoulli_Prob(params, value)\n",
    "                col = col + 1\n",
    "            class_conditional_probability[clas] = prob\n",
    "        return class_conditional_probability\n",
    "\n",
    "\n",
    "    def get_classwise_featurewise_parameters(self, X_train, Y_train):\n",
    "        '''Method to compute probability distribution parameters for each feature\n",
    "        and for each class.'''\n",
    "        clas_feature_dict = {}\n",
    "        columns = X_train.shape[1]\n",
    "        classes, counts = self.get_classes(Y_train)\n",
    "        for clas in classes:\n",
    "            # Get the set of rows in X which correspond to this class\n",
    "            X_train_clas = X_train[np.where(Y_train == clas)]\n",
    "            parameters_for_class = {}\n",
    "            for column in range(0,columns,1):\n",
    "                X_column = X_train_clas[:,column]\n",
    "                feature_type = self.feature_types[column]\n",
    "                params = ''\n",
    "                if (feature_type == 'b'):\n",
    "                    params = self.fit_Bernoulli(X_column)\n",
    "                elif (feature_type == 'r'):\n",
    "                    params = self.fit_Gaussian(X_column)\n",
    "                elif (feature_type == 'c'):\n",
    "                    params = self.fit_Multinoulli(X_column)\n",
    "                parameters_for_class[column] = params\n",
    "            clas_feature_dict[clas] = parameters_for_class\n",
    "        return clas_feature_dict\n",
    "                    \n",
    "        \n",
    "    def get_class_probability(self, Y_train):\n",
    "        '''Method to evaluate the prior probability for\n",
    "        each class. It returns a dictionary, where the key is the class\n",
    "        and the value is the prior probability of that class.'''\n",
    "        unique_classes, counts = self.get_classes(Y_train)\n",
    "        N = Y_train.size\n",
    "        marginal_prob = {}\n",
    "        for unique_class in unique_classes:\n",
    "            index = np.where(unique_classes == unique_class)\n",
    "            class_size = counts[index]\n",
    "            marginal_prob[unique_class] = class_size/N\n",
    "        return marginal_prob\n",
    "\n",
    "    def get_classes(self, Y_train):\n",
    "        '''Function to get a list of the distinct classes in the\n",
    "        training set. We can figure out the number of classes from\n",
    "        the size of this list'''\n",
    "        return np.unique(Y_train, return_counts=True)\n",
    "\n",
    "    def fit_Bernoulli(self, X):\n",
    "        '''Method to fit a Bernoulli parameter to a given column.\n",
    "        It is expected that the column will only contain binary\n",
    "        variables 0 and 1.'''\n",
    "        total = X.size\n",
    "        num_ones = np.count_nonzero(X==1)\n",
    "        smooth = 1\n",
    "        return ((num_ones + smooth)/(total + (smooth * np.unique(X).size)))\n",
    "\n",
    "    def get_Bernoulli_Prob(self, p, x):\n",
    "        return ((p ** x) * (((1-p) ** (1-x))))\n",
    "    \n",
    "    def fit_Multinoulli(self, X):\n",
    "        '''Method to fit a set of Multinoulli parameters to a given\n",
    "        column. It is expected that the column will contain only a finite\n",
    "        set of categories.'''\n",
    "        categories, counts = self.get_classes(X)\n",
    "        total = X.size\n",
    "        multinoulli = {}\n",
    "        for category in categories:\n",
    "            index = np.where(categories == category)\n",
    "            category_size = counts[index]\n",
    "            multinoulli[category] = (category_size/total)\n",
    "        return multinoulli\n",
    "\n",
    "    def get_Multinoulli_Prob(self, probabilities, x):\n",
    "        '''Method to return the multinoulli probability of occurrence\n",
    "        of x. Please note that x is expected to be a categorical variable\n",
    "        and probabilities is a dictionary containing the multinoulli parameters\n",
    "        with respect to the categories.'''\n",
    "        return probabilities[x]\n",
    "\n",
    "    def fit_Gaussian(self, X):\n",
    "        '''Method to fit the Gaussian parameters, mean and variance to a\n",
    "        given column. It is expected that the column will contain real valued\n",
    "        elements.'''\n",
    "        mean = np.mean(X)\n",
    "        var = ((np.std(X)) ** 2)\n",
    "        return (mean, var)\n",
    "\n",
    "    def get_Gaussian_Prob(self, params, x):\n",
    "        '''Method to compute Gaussian probability based on given parameters.\n",
    "        Please note that the params is a tuple containing first value as mean\n",
    "        and second value as variance'''\n",
    "        mean = params[0]\n",
    "        var = params[1]\n",
    "        eps = 1e-6\n",
    "        exponent = np.exp(-(1/(2*(var+eps))) * ((x-mean)**2))\n",
    "        return (exponent / (np.sqrt(2 * np.pi * (var + eps))))"
   ]
  },
  {
   "cell_type": "code",
   "execution_count": 11,
   "metadata": {
    "collapsed": true
   },
   "outputs": [],
   "source": [
    "%matplotlib inline\n",
    "import _pickle as cp\n",
    "import numpy as np\n",
    "import matplotlib.pyplot as plt\n",
    "import operator\n",
    "\n",
    "class NBC_Log:\n",
    "    \n",
    "    def __init__(self, feature_types):\n",
    "        '''Constructor for initializing class attributes'''\n",
    "        self.feature_types = feature_types\n",
    "    \n",
    "    def fit(self, X_train, Y_train):\n",
    "        '''Method to fit an NBC classifier to the given data'''\n",
    "        self.classwise_featurewise_params = self.get_classwise_featurewise_parameters(X_train, Y_train)\n",
    "        self.class_probs = self.get_class_probability(Y_train)\n",
    "        self.classes, counts = self.get_classes(Y_train)\n",
    "\n",
    "    def predict(self, X_new):\n",
    "        '''Method to predict the class of a newly given point'''\n",
    "        class_conditional_probabilities = self.get_class_conditional_probability(X_new, self.classes, self.classwise_featurewise_params)\n",
    "        final_probabilities = {clas: self.class_probs[clas] + class_conditional_probabilities[clas] for clas in self.class_probs}\n",
    "        predicted_class = (max(final_probabilities, key=final_probabilities.get))\n",
    "        return predicted_class, final_probabilities\n",
    "\n",
    "    def get_class_conditional_probability(self, X_new, classes, classwise_featurewise_params):\n",
    "        '''Method to compute the probability of each feature for each\n",
    "        class. Real valued variables are modeled here using the Gaussian\n",
    "        distribution. Categorical variables are modeled using the Multinoulli\n",
    "        distribution and binary features are modeled using the Bernoulli\n",
    "        distribution.'''\n",
    "        \n",
    "        # Modeling each feature for each class\n",
    "        class_conditional_probability = {}\n",
    "    \n",
    "        for clas in classes:\n",
    "            prob = 1\n",
    "            col = 0\n",
    "            for value in X_new:\n",
    "                feature_type = self.feature_types[col]\n",
    "                params = classwise_featurewise_params[clas][col]\n",
    "                if (feature_type == 'b'):\n",
    "                    prob = prob + self.get_Bernoulli_Prob(params, value)\n",
    "                elif (feature_type == 'r'):\n",
    "                    prob = prob + self.get_Gaussian_Prob(params, value)\n",
    "                elif (feature_type == 'c'):\n",
    "                    prob = prob + self.get_Multinoulli_Prob(params, value)\n",
    "                col = col + 1\n",
    "            class_conditional_probability[clas] = prob\n",
    "        return class_conditional_probability\n",
    "\n",
    "\n",
    "    def get_classwise_featurewise_parameters(self, X_train, Y_train):\n",
    "        '''Method to compute probability distribution parameters for each feature\n",
    "        and for each class.'''\n",
    "        clas_feature_dict = {}\n",
    "        columns = X_train.shape[1]\n",
    "        classes, counts = self.get_classes(Y_train)\n",
    "        for clas in classes:\n",
    "            # Get the set of rows in X which correspond to this class\n",
    "            X_train_clas = X_train[np.where(Y_train == clas)]\n",
    "            parameters_for_class = {}\n",
    "            for column in range(0,columns,1):\n",
    "                X_column = X_train_clas[:,column]\n",
    "                feature_type = self.feature_types[column]\n",
    "                params = ''\n",
    "                if (feature_type == 'b'):\n",
    "                    params = self.fit_Bernoulli(X_column)\n",
    "                elif (feature_type == 'r'):\n",
    "                    params = self.fit_Gaussian(X_column)\n",
    "                elif (feature_type == 'c'):\n",
    "                    params = self.fit_Multinoulli(X_column)\n",
    "                parameters_for_class[column] = params\n",
    "            clas_feature_dict[clas] = parameters_for_class\n",
    "        return clas_feature_dict\n",
    "                    \n",
    "        \n",
    "    def get_class_probability(self, Y_train):\n",
    "        '''Method to evaluate the prior probability for\n",
    "        each class. It returns a dictionary, where the key is the class\n",
    "        and the value is the prior probability of that class.'''\n",
    "        unique_classes, counts = self.get_classes(Y_train)\n",
    "        N = Y_train.size\n",
    "        marginal_prob = {}\n",
    "        for unique_class in unique_classes:\n",
    "            index = np.where(unique_classes == unique_class)\n",
    "            class_size = counts[index]\n",
    "            marginal_prob[unique_class] = np.log(class_size/N)\n",
    "        return marginal_prob\n",
    "\n",
    "    def get_classes(self, Y_train):\n",
    "        '''Function to get a list of the distinct classes in the\n",
    "        training set. We can figure out the number of classes from\n",
    "        the size of this list'''\n",
    "        return np.unique(Y_train, return_counts=True)\n",
    "\n",
    "    def fit_Bernoulli(self, X):\n",
    "        '''Method to fit a Bernoulli parameter to a given column.\n",
    "        It is expected that the column will only contain binary\n",
    "        variables 0 and 1.'''\n",
    "        total = X.size\n",
    "        num_ones = np.count_nonzero(X==1)\n",
    "        smooth = 1\n",
    "        return ((num_ones + smooth)/(total + (smooth * np.unique(X).size)))\n",
    "\n",
    "    def get_Bernoulli_Prob(self, p, x):\n",
    "        return (x * np.log(p) + (1-x) * np.log(1-p))\n",
    "        #return ((p ** x) * (((1-p) ** (1-x))))\n",
    "    \n",
    "    def fit_Multinoulli(self, X):\n",
    "        '''Method to fit a set of Multinoulli parameters to a given\n",
    "        column. It is expected that the column will contain only a finite\n",
    "        set of categories.'''\n",
    "        categories, counts = self.get_classes(X)\n",
    "        total = X.size\n",
    "        multinoulli = {}\n",
    "        for category in categories:\n",
    "            index = np.where(categories == category)\n",
    "            category_size = counts[index]\n",
    "            multinoulli[category] = (category_size/total)\n",
    "        return multinoulli\n",
    "\n",
    "    def get_Multinoulli_Prob(self, probabilities, x):\n",
    "        '''Method to return the multinoulli probability of occurrence\n",
    "        of x. Please note that x is expected to be a categorical variable\n",
    "        and probabilities is a dictionary containing the multinoulli parameters\n",
    "        with respect to the categories.'''\n",
    "        return np.log(probabilities[x])\n",
    "\n",
    "    def fit_Gaussian(self, X):\n",
    "        '''Method to fit the Gaussian parameters, mean and variance to a\n",
    "        given column. It is expected that the column will contain real valued\n",
    "        elements.'''\n",
    "        mean = np.mean(X)\n",
    "        var = ((np.std(X)) ** 2)\n",
    "        return (mean, var)\n",
    "\n",
    "    def get_Gaussian_Prob(self, params, x):\n",
    "        '''Method to compute Gaussian log probability based on given parameters.\n",
    "        Please note that the params is a tuple containing first value as mean\n",
    "        and second value as variance'''\n",
    "        mean = params[0]\n",
    "        var = params[1]\n",
    "        eps = 1e-6\n",
    "        exponent = -(1/(2*(var+eps))) * ((x-mean)**2)\n",
    "        return (exponent + np.log((np.sqrt(2 * np.pi * (var + eps)))))"
   ]
  },
  {
   "cell_type": "code",
   "execution_count": 3,
   "metadata": {},
   "outputs": [
    {
     "name": "stdout",
     "output_type": "stream",
     "text": [
      "(120, 4)\n",
      "(30, 4)\n",
      "(120,)\n",
      "(30,)\n"
     ]
    }
   ],
   "source": [
    "from sklearn.datasets import load_iris\n",
    "\n",
    "iris = load_iris()\n",
    "X,y = iris.data, iris.target\n",
    "\n",
    "N, D = X.shape\n",
    "X_ = np.array(X)\n",
    "y_ = np.array(y)\n",
    "N_train = int(0.8 * N)\n",
    "\n",
    "X_train = X_[:N_train]\n",
    "X_test = X_[N_train:]\n",
    "y_train = y_[:N_train]\n",
    "y_test = y_[N_train:]\n",
    "\n",
    "print(X_train.shape)\n",
    "print (X_test.shape)\n",
    "print (y_train.shape)\n",
    "print (y_test.shape)\n"
   ]
  },
  {
   "cell_type": "code",
   "execution_count": 4,
   "metadata": {
    "scrolled": true
   },
   "outputs": [
    {
     "name": "stdout",
     "output_type": "stream",
     "text": [
      "0.933333333333\n"
     ]
    }
   ],
   "source": [
    "nbc = NBC(feature_types=['r', 'r', 'r', 'r'])\n",
    "nbc.fit(X_train, y_train)\n",
    "Y_hat = []\n",
    "for X in X_test:\n",
    "    Y_class, prob_dist = nbc.predict(X)\n",
    "    Y_hat = Y_hat + [Y_class]\n",
    "test_accuracy = np.mean(Y_hat == y_test)\n",
    "print (test_accuracy)"
   ]
  },
  {
   "cell_type": "code",
   "execution_count": 5,
   "metadata": {},
   "outputs": [
    {
     "name": "stdout",
     "output_type": "stream",
     "text": [
      "0.733333333333\n"
     ]
    }
   ],
   "source": [
    "from sklearn.linear_model import LogisticRegression\n",
    "\n",
    "# Since C is the inverse of the regularization strength and the value of Lambda = 0.1, I am choosing C as 10 here.\n",
    "log_regress = LogisticRegression(C=5, penalty='l1', max_iter = 100)\n",
    "\n",
    "log_regress.fit(X_train, y_train)\n",
    "y_hat = log_regress.predict(X_test)\n",
    "test_accuracy = np.mean(y_hat == y_test)\n",
    "print (test_accuracy)"
   ]
  },
  {
   "cell_type": "code",
   "execution_count": 6,
   "metadata": {},
   "outputs": [
    {
     "name": "stdout",
     "output_type": "stream",
     "text": [
      "(232, 16)\n",
      "(232,)\n"
     ]
    }
   ],
   "source": [
    "# Testing on the Voting data set\n",
    "X_voting, y_voting = cp.load(open('voting.pickle', 'rb'))\n",
    "\n",
    "print (X_voting.shape)\n",
    "print (y_voting.shape)\n"
   ]
  },
  {
   "cell_type": "code",
   "execution_count": 7,
   "metadata": {
    "collapsed": true
   },
   "outputs": [],
   "source": [
    "# Defining a method for shuffling any given dataset\n",
    "def shuffle(X, y):\n",
    "    N, D = X.shape\n",
    "    Ntrain = int(0.8 * N)\n",
    "    shuffler = np.random.permutation(N)\n",
    "    Xtrain = X[shuffler[:Ntrain]]\n",
    "    ytrain = y[shuffler[:Ntrain]]\n",
    "    Xtest = X[shuffler[Ntrain:]]\n",
    "    ytest = y[shuffler[Ntrain:]]\n",
    "    return Xtrain, ytrain, Xtest, ytest\n",
    "\n",
    "# Defining a method for breaking a dataset into training and test sets\n",
    "def partial_training_set(X, y, k):\n",
    "    N, D = X.shape\n",
    "    Ntrain = int(k * N)\n",
    "    X_train = X[:Ntrain]\n",
    "    y_train = y[:Ntrain]\n",
    "    X_test = X[Ntrain:]\n",
    "    y_test = y[Ntrain:]\n",
    "    return X_train, y_train"
   ]
  },
  {
   "cell_type": "code",
   "execution_count": 8,
   "metadata": {},
   "outputs": [
    {
     "name": "stdout",
     "output_type": "stream",
     "text": [
      "[ 0.213       0.0739      0.05593333  0.05133333  0.04933333  0.04743333\n",
      "  0.04646667  0.04586667  0.0456      0.04586667]\n"
     ]
    }
   ],
   "source": [
    "# Experiments section\n",
    "# Experiment 1: Iris dataset, NBC classifier\n",
    "X_iris, y_iris = iris.data, iris.target\n",
    "error_matrix_iris_nbc = np.zeros((1000,10))\n",
    "\n",
    "for p in range(1,1001,1):\n",
    "    X_shuffled_train, y_shuffled_train, X_shuffled_test, y_shuffled_test = shuffle(X_iris, y_iris)\n",
    "    for q in range(1,11,1):\n",
    "        X_shuffled_train_partial, y_shuffled_train_partial = partial_training_set(X_shuffled_train, y_shuffled_train, (q/10))\n",
    "        nbc = NBC(feature_types = ['r', 'r', 'r', 'r'])\n",
    "        nbc.fit(X_shuffled_train_partial, y_shuffled_train_partial)\n",
    "        y_hat = []\n",
    "        for x in X_shuffled_test:\n",
    "            y_class, prob_dist = nbc.predict(x)\n",
    "            y_hat = y_hat + [y_class]\n",
    "        test_error = np.mean(y_hat != y_shuffled_test)\n",
    "        error_matrix_iris_nbc[p-1][q-1] = test_error\n",
    "\n",
    "error_matrix_mean_iris_nbc = error_matrix_iris_nbc.mean(0)\n",
    "print (error_matrix_mean_iris_nbc)"
   ]
  },
  {
   "cell_type": "code",
   "execution_count": 9,
   "metadata": {},
   "outputs": [
    {
     "name": "stdout",
     "output_type": "stream",
     "text": [
      "[ 0.1539      0.0848      0.06583333  0.0564      0.0491      0.0448\n",
      "  0.04286667  0.04076667  0.03906667  0.0383    ]\n"
     ]
    }
   ],
   "source": [
    "# Experiments section\n",
    "# Experiment 2: Iris dataset, Logistic regression classifier\n",
    "error_matrix_iris_logistic = np.zeros((1000,10))\n",
    "\n",
    "for p in range(1,1001,1):\n",
    "    X_shuffled_train, y_shuffled_train, X_shuffled_test, y_shuffled_test = shuffle(X_iris, y_iris)\n",
    "    for q in range(1,11,1):\n",
    "        X_shuffled_train_partial, y_shuffled_train_partial = partial_training_set(X_shuffled_train, y_shuffled_train, (q/10))\n",
    "        logistic_regression = LogisticRegression(C = 10, penalty='l1')\n",
    "        logistic_regression.fit(X_shuffled_train_partial, y_shuffled_train_partial)\n",
    "        y_hat = []\n",
    "        y_hat = logistic_regression.predict(X_shuffled_test)\n",
    "        test_error = np.mean(y_hat != y_shuffled_test)\n",
    "        error_matrix_iris_logistic[p-1][q-1] = test_error\n",
    "\n",
    "error_matrix_mean_logistic_nbc = error_matrix_iris_logistic.mean(0)\n",
    "print (error_matrix_mean_logistic_nbc)"
   ]
  },
  {
   "cell_type": "code",
   "execution_count": 12,
   "metadata": {},
   "outputs": [
    {
     "name": "stdout",
     "output_type": "stream",
     "text": [
      "[ 0.23036667  0.09063333  0.0708      0.06546667  0.06283333  0.062\n",
      "  0.06186667  0.06186667  0.06126667  0.06096667]\n"
     ]
    }
   ],
   "source": [
    "# Experiments section\n",
    "# Experiment 1.1: Iris dataset, NBC classifier\n",
    "X_iris, y_iris = iris.data, iris.target\n",
    "error_matrix_iris_nbc = np.zeros((1000,10))\n",
    "\n",
    "for p in range(1,1001,1):\n",
    "    X_shuffled_train, y_shuffled_train, X_shuffled_test, y_shuffled_test = shuffle(X_iris, y_iris)\n",
    "    for q in range(1,11,1):\n",
    "        X_shuffled_train_partial, y_shuffled_train_partial = partial_training_set(X_shuffled_train, y_shuffled_train, (q/10))\n",
    "        nbc = NBC_Log(feature_types = ['r', 'r', 'r', 'r'])\n",
    "        nbc.fit(X_shuffled_train_partial, y_shuffled_train_partial)\n",
    "        y_hat = []\n",
    "        for x in X_shuffled_test:\n",
    "            y_class, prob_dist = nbc.predict(x)\n",
    "            y_hat = y_hat + [y_class]\n",
    "        test_error = np.mean(y_hat != y_shuffled_test)\n",
    "        error_matrix_iris_nbc[p-1][q-1] = test_error\n",
    "\n",
    "error_matrix_mean_iris_nbc2 = error_matrix_iris_nbc.mean(0)\n",
    "print (error_matrix_mean_iris_nbc2)"
   ]
  },
  {
   "cell_type": "code",
   "execution_count": 13,
   "metadata": {},
   "outputs": [
    {
     "data": {
      "image/png": "[encoded data removed]",
      "text/plain": [
       "<matplotlib.figure.Figure at 0x7f5bb19848d0>"
      ]
     },
     "metadata": {},
     "output_type": "display_data"
    }
   ],
   "source": [
    "# Plotting for the Iris dataset\n",
    "x_plot = range(10,110,10)\n",
    "plt.plot(x_plot, error_matrix_mean_iris_nbc, label = 'Naive Bayes')\n",
    "plt.plot(x_plot, error_matrix_mean_iris_nbc2, label = 'Naive Bayes with log')\n",
    "plt.plot(x_plot, error_matrix_mean_logistic_nbc, label = 'Logistic Regression')\n",
    "plt.legend()\n",
    "plt.show()"
   ]
  },
  {
   "cell_type": "code",
   "execution_count": 15,
   "metadata": {},
   "outputs": [
    {
     "name": "stdout",
     "output_type": "stream",
     "text": [
      "[ 0.13553191  0.08402128  0.07419149  0.07346809  0.07376596  0.07451064\n",
      "  0.07653191  0.07838298  0.08021277  0.08176596]\n"
     ]
    }
   ],
   "source": [
    "# Experiments section\n",
    "# Experiment 3: Voting dataset, NBC classifier\n",
    "error_matrix_voting_nbc = np.zeros((1000,10))\n",
    "\n",
    "for p in range(1,1001,1):\n",
    "    X_shuffled_train, y_shuffled_train, X_shuffled_test, y_shuffled_test = shuffle(X_voting, y_voting)\n",
    "    for q in range(1,11,1):\n",
    "        X_shuffled_train_partial, y_shuffled_train_partial = partial_training_set(X_shuffled_train, y_shuffled_train, (q/10))\n",
    "        nbc = NBC(feature_types = ['b', 'b', 'b', 'b', 'b', 'b', 'b', 'b', 'b', 'b', 'b', 'b', 'b', 'b', 'b', 'b'])\n",
    "        nbc.fit(X_shuffled_train_partial, y_shuffled_train_partial)\n",
    "        y_hat = []\n",
    "        for x in X_shuffled_test:\n",
    "            y_class, prob_dist = nbc.predict(x)\n",
    "            y_hat = y_hat + [y_class]\n",
    "        test_error = np.mean(y_hat != y_shuffled_test)\n",
    "        error_matrix_voting_nbc[p-1][q-1] = test_error\n",
    "\n",
    "error_matrix_mean_voting_nbc = error_matrix_voting_nbc.mean(0)\n",
    "print (error_matrix_mean_voting_nbc)"
   ]
  },
  {
   "cell_type": "code",
   "execution_count": 16,
   "metadata": {},
   "outputs": [
    {
     "name": "stderr",
     "output_type": "stream",
     "text": [
      "/usr/local/Anaconda3/lib/python3.6/site-packages/ipykernel_launcher.py:107: RuntimeWarning: divide by zero encountered in log\n",
      "/usr/local/Anaconda3/lib/python3.6/site-packages/ipykernel_launcher.py:107: RuntimeWarning: invalid value encountered in double_scalars\n"
     ]
    },
    {
     "name": "stdout",
     "output_type": "stream",
     "text": [
      "[ 0.42680851  0.2837234   0.20248936  0.14702128  0.1187234   0.10119149\n",
      "  0.09074468  0.08676596  0.08525532  0.08391489]\n"
     ]
    }
   ],
   "source": [
    "# Experiments section\n",
    "# Experiment 3.1: Voting dataset, NBC classifier\n",
    "error_matrix_voting_nbc = np.zeros((1000,10))\n",
    "\n",
    "for p in range(1,1001,1):\n",
    "    X_shuffled_train, y_shuffled_train, X_shuffled_test, y_shuffled_test = shuffle(X_voting, y_voting)\n",
    "    for q in range(1,11,1):\n",
    "        X_shuffled_train_partial, y_shuffled_train_partial = partial_training_set(X_shuffled_train, y_shuffled_train, (q/10))\n",
    "        nbc = NBC_Log(feature_types = ['b', 'b', 'b', 'b', 'b', 'b', 'b', 'b', 'b', 'b', 'b', 'b', 'b', 'b', 'b', 'b'])\n",
    "        nbc.fit(X_shuffled_train_partial, y_shuffled_train_partial)\n",
    "        y_hat = []\n",
    "        for x in X_shuffled_test:\n",
    "            y_class, prob_dist = nbc.predict(x)\n",
    "            y_hat = y_hat + [y_class]\n",
    "        test_error = np.mean(y_hat != y_shuffled_test)\n",
    "        error_matrix_voting_nbc[p-1][q-1] = test_error\n",
    "\n",
    "error_matrix_mean_voting_nbc2 = error_matrix_voting_nbc.mean(0)\n",
    "print (error_matrix_mean_voting_nbc2)"
   ]
  },
  {
   "cell_type": "code",
   "execution_count": 17,
   "metadata": {},
   "outputs": [
    {
     "name": "stdout",
     "output_type": "stream",
     "text": [
      "[ 0.09608511  0.07682979  0.06702128  0.05906383  0.05546809  0.05244681\n",
      "  0.04987234  0.0482766   0.0472766   0.04568085]\n"
     ]
    }
   ],
   "source": [
    "# Experiments section\n",
    "# Experiment 4: Voting dataset, Logistic regression classifier\n",
    "error_matrix_voting_logistic = np.zeros((1000,10))\n",
    "\n",
    "for p in range(1,1001,1):\n",
    "    X_shuffled_train, y_shuffled_train, X_shuffled_test, y_shuffled_test = shuffle(X_voting, y_voting)\n",
    "    for q in range(1,11,1):\n",
    "        X_shuffled_train_partial, y_shuffled_train_partial = partial_training_set(X_shuffled_train, y_shuffled_train, (q/10))\n",
    "        logistic_regression = LogisticRegression()\n",
    "        logistic_regression.fit(X_shuffled_train_partial, y_shuffled_train_partial)\n",
    "        y_hat = logistic_regression.predict(X_shuffled_test)\n",
    "        test_error = np.mean(y_hat != y_shuffled_test)\n",
    "        error_matrix_voting_logistic[p-1][q-1] = test_error\n",
    "\n",
    "error_matrix_mean_voting_logistic = error_matrix_voting_logistic.mean(0)\n",
    "print (error_matrix_mean_voting_logistic)"
   ]
  },
  {
   "cell_type": "code",
   "execution_count": 18,
   "metadata": {},
   "outputs": [
    {
     "data": {
      "image/png": "[encoded data removed]",
      "text/plain": [
       "<matplotlib.figure.Figure at 0x7f5bb184ad30>"
      ]
     },
     "metadata": {},
     "output_type": "display_data"
    }
   ],
   "source": [
    "# Plotting for the Voting dataset\n",
    "x_plot = range(10,110,10)\n",
    "plt.plot(x_plot, error_matrix_mean_voting_nbc, label = 'Naive Bayes')\n",
    "plt.plot(x_plot, error_matrix_mean_voting_nbc2, label = 'Naive Bayes with log')\n",
    "plt.plot(x_plot, error_matrix_mean_voting_logistic, label = 'Logistic Regression')\n",
    "plt.legend()\n",
    "plt.show()"
   ]
  },
  {
   "cell_type": "code",
   "execution_count": 19,
   "metadata": {},
   "outputs": [
    {
     "name": "stdout",
     "output_type": "stream",
     "text": [
      "(435, 16)\n",
      "(435,)\n"
     ]
    }
   ],
   "source": [
    "# Optional\n",
    "# Loading the full voting dataset\n",
    "X_voting_full, y_voting_full = cp.load(open('voting-full.pickle', 'rb'))\n",
    "\n",
    "print (X_voting_full.shape)\n",
    "print (y_voting_full.shape)"
   ]
  },
  {
   "cell_type": "code",
   "execution_count": 20,
   "metadata": {
    "collapsed": true
   },
   "outputs": [],
   "source": [
    "# NBC which can deal with missing values in training and test sets.\n",
    "%matplotlib inline\n",
    "import _pickle as cp\n",
    "import numpy as np\n",
    "import matplotlib.pyplot as plt\n",
    "import operator\n",
    "\n",
    "class NBC_Modified:\n",
    "    \n",
    "    def __init__(self, feature_types):\n",
    "        '''Constructor for initializing class attributes'''\n",
    "        self.feature_types = feature_types\n",
    "    \n",
    "    def fit(self, X_train, Y_train):\n",
    "        '''Method to fit an NBC classifier to the given data'''\n",
    "        self.classwise_featurewise_params = self.get_classwise_featurewise_parameters(X_train, Y_train)\n",
    "        self.class_probs = self.get_class_probability(Y_train)\n",
    "        self.classes, counts = self.get_classes(Y_train)\n",
    "\n",
    "    def predict(self, X_new):\n",
    "        '''Method to predict the class of a newly given point'''\n",
    "        class_conditional_probabilities = self.get_class_conditional_probability(X_new, self.classes, self.classwise_featurewise_params)\n",
    "        final_probabilities = {clas: self.class_probs[clas] * class_conditional_probabilities[clas] for clas in self.class_probs}\n",
    "        predicted_class = (max(final_probabilities, key=final_probabilities.get))\n",
    "        return predicted_class, final_probabilities\n",
    "\n",
    "    def get_class_conditional_probability(self, X_new, classes, classwise_featurewise_params):\n",
    "        '''Method to compute the probability of each feature for each\n",
    "        class. Real valued variables are modeled here using the Gaussian\n",
    "        distribution. Categorical variables are modeled using the Multinoulli\n",
    "        distribution and binary features are modeled using the Bernoulli\n",
    "        distribution.'''\n",
    "        \n",
    "        # Modeling each feature for each class\n",
    "        class_conditional_probability = {}\n",
    "    \n",
    "        for clas in classes:\n",
    "            prob = 1\n",
    "            col = 0\n",
    "            for value in X_new:\n",
    "                if (value == 2):\n",
    "                    prob = prob * 1\n",
    "                else:\n",
    "                    feature_type = self.feature_types[col]\n",
    "                    params = classwise_featurewise_params[clas][col]\n",
    "                    if (feature_type == 'b'):\n",
    "                        prob = prob * self.get_Bernoulli_Prob(params, value)\n",
    "                    elif (feature_type == 'r'):\n",
    "                        prob = prob * self.get_Gaussian_Prob(params, value)\n",
    "                    elif (feature_type == 'c'):\n",
    "                        prob = prob * self.get_Multinoulli_Prob(params, value)\n",
    "                    col = col + 1\n",
    "                class_conditional_probability[clas] = prob\n",
    "        return class_conditional_probability\n",
    "\n",
    "\n",
    "    def get_classwise_featurewise_parameters(self, X_train, Y_train):\n",
    "        '''Method to compute probability distribution parameters for each feature\n",
    "        and for each class.'''\n",
    "        clas_feature_dict = {}\n",
    "        columns = X_train.shape[1]\n",
    "        classes, counts = self.get_classes(Y_train)\n",
    "        for clas in classes:\n",
    "            # Get the set of rows in X which correspond to this class\n",
    "            X_train_clas = X_train[np.where(Y_train == clas)]\n",
    "            parameters_for_class = {}\n",
    "            for column in range(0,columns,1):\n",
    "                X_column = X_train_clas[:,column]\n",
    "                feature_type = self.feature_types[column]\n",
    "                params = ''\n",
    "                if (feature_type == 'b'):\n",
    "                    params = self.fit_Bernoulli(X_column)\n",
    "                elif (feature_type == 'r'):\n",
    "                    params = self.fit_Gaussian(X_column)\n",
    "                elif (feature_type == 'c'):\n",
    "                    params = self.fit_Multinoulli(X_column)\n",
    "                parameters_for_class[column] = params\n",
    "            clas_feature_dict[clas] = parameters_for_class\n",
    "        return clas_feature_dict\n",
    "                    \n",
    "        \n",
    "    def get_class_probability(self, Y_train):\n",
    "        '''Method to evaluate the prior probability for\n",
    "        each class. It returns a dictionary, where the key is the class\n",
    "        and the value is the prior probability of that class.'''\n",
    "        unique_classes, counts = self.get_classes(Y_train)\n",
    "        N = Y_train.size\n",
    "        marginal_prob = {}\n",
    "        for unique_class in unique_classes:\n",
    "            index = np.where(unique_classes == unique_class)\n",
    "            class_size = counts[index]\n",
    "            marginal_prob[unique_class] = class_size/N\n",
    "        return marginal_prob\n",
    "\n",
    "    def get_classes(self, Y_train):\n",
    "        '''Function to get a list of the distinct classes in the\n",
    "        training set. We can figure out the number of classes from\n",
    "        the size of this list'''\n",
    "        return np.unique(Y_train, return_counts=True)\n",
    "\n",
    "    def fit_Bernoulli(self, X):\n",
    "        '''Method to fit a Bernoulli parameter to a given column.\n",
    "        It is expected that the column will only contain binary\n",
    "        variables 0 and 1. If a column has missing values, it is simply\n",
    "        ignored.'''\n",
    "        num_ones = np.count_nonzero(X==1)\n",
    "        num_zeros = np.count_nonzero(X==0)\n",
    "        smooth = 1\n",
    "        return ((num_ones + smooth)/((num_ones + num_zeros) + (smooth * 2)))\n",
    "\n",
    "    def get_Bernoulli_Prob(self, p, x):\n",
    "        return ((p ** x) * (((1-p) ** (1-x))))\n",
    "    \n",
    "    def fit_Multinoulli(self, X):\n",
    "        '''Method to fit a set of Multinoulli parameters to a given\n",
    "        column. It is expected that the column will contain only a finite\n",
    "        set of categories.'''\n",
    "        categories, counts = self.get_classes(X)\n",
    "        total = X.size\n",
    "        multinoulli = {}\n",
    "        for category in categories:\n",
    "            index = np.where(categories == category)\n",
    "            category_size = counts[index]\n",
    "            multinoulli[category] = (category_size/total)\n",
    "        return multinoulli\n",
    "\n",
    "    def get_Multinoulli_Prob(self, probabilities, x):\n",
    "        '''Method to return the multinoulli probability of occurrence\n",
    "        of x. Please note that x is expected to be a categorical variable\n",
    "        and probabilities is a dictionary containing the multinoulli parameters\n",
    "        with respect to the categories.'''\n",
    "        return probabilities[x]\n",
    "\n",
    "    def fit_Gaussian(self, X):\n",
    "        '''Method to fit the Gaussian parameters, mean and variance to a\n",
    "        given column. It is expected that the column will contain real valued\n",
    "        elements.'''\n",
    "        mean = np.mean(X)\n",
    "        var = ((np.std(X)) ** 2)\n",
    "        return (mean, var)\n",
    "\n",
    "    def get_Gaussian_Prob(self, params, x):\n",
    "        '''Method to compute Gaussian probability based on given parameters.\n",
    "        Please note that the params is a tuple containing first value as mean\n",
    "        and second value as variance'''\n",
    "        mean = params[0]\n",
    "        var = params[1]\n",
    "        eps = 1e-6\n",
    "        exponent = np.exp(-(1/(2*(var+eps))) * ((x-mean)**2))\n",
    "        return (exponent / (np.sqrt(2 * np.pi * (var + eps))))"
   ]
  },
  {
   "cell_type": "code",
   "execution_count": 15,
   "metadata": {},
   "outputs": [
    {
     "name": "stdout",
     "output_type": "stream",
     "text": [
      "0.919540229885\n"
     ]
    }
   ],
   "source": [
    "N, D = X_voting_full.shape\n",
    "Ntrain = int(0.8 * N)\n",
    "X_voting_train = X_voting_full[:Ntrain]\n",
    "y_voting_train = y_voting_full[:Ntrain]\n",
    "X_voting_test = X_voting_full[Ntrain:]\n",
    "y_voting_test = y_voting_full[Ntrain:]\n",
    "\n",
    "nbc_mod = NBC_Modified(feature_types = ['b', 'b', 'b', 'b', 'b', 'b', 'b', 'b', 'b', 'b', 'b', 'b', 'b', 'b', 'b', 'b'])\n",
    "nbc_mod.fit(X_voting_train, y_voting_train)\n",
    "\n",
    "y_hat = []\n",
    "for xnew in X_voting_test:\n",
    "    y_label, dist = nbc_mod.predict(xnew)\n",
    "    y_hat = y_hat + [y_label]\n",
    "\n",
    "test_accuracy = np.mean(y_hat == y_voting_test)\n",
    "print(test_accuracy)"
   ]
  },
  {
   "cell_type": "code",
   "execution_count": 16,
   "metadata": {},
   "outputs": [
    {
     "name": "stdout",
     "output_type": "stream",
     "text": [
      "0.965517241379\n"
     ]
    }
   ],
   "source": [
    "# Logistic regression with missing values\n",
    "# modifying the data set by filling up missing values with 0\n",
    "\n",
    "X_voting_full[X_voting_full == 2] = 0\n",
    "N, D = X_voting_full.shape\n",
    "Ntrain = int(0.8 * N)\n",
    "X_voting_train = X_voting_full[:Ntrain]\n",
    "y_voting_train = y_voting_full[:Ntrain]\n",
    "X_voting_test = X_voting_full[Ntrain:]\n",
    "y_voting_test = y_voting_full[Ntrain:]\n",
    "\n",
    "log_regression = LogisticRegression()\n",
    "log_regression.fit(X_voting_train, y_voting_train)\n",
    "y_hat = log_regression.predict(X_voting_test)\n",
    "\n",
    "test_accuracy = np.mean(y_hat == y_voting_test)\n",
    "print (test_accuracy)"
   ]
  },
  {
   "cell_type": "code",
   "execution_count": 17,
   "metadata": {},
   "outputs": [
    {
     "name": "stdout",
     "output_type": "stream",
     "text": [
      "(435, 16)\n",
      "(435,)\n"
     ]
    }
   ],
   "source": [
    "# Optional\n",
    "# Loading the full voting dataset\n",
    "X_voting_full, y_voting_full = cp.load(open('voting-full.pickle', 'rb'))\n",
    "\n",
    "print (X_voting_full.shape)\n",
    "print (y_voting_full.shape)"
   ]
  },
  {
   "cell_type": "code",
   "execution_count": 18,
   "metadata": {},
   "outputs": [
    {
     "name": "stderr",
     "output_type": "stream",
     "text": [
      "/usr/local/Anaconda3/lib/python3.6/site-packages/ipykernel_launcher.py:107: RuntimeWarning: divide by zero encountered in double_scalars\n",
      "/usr/local/Anaconda3/lib/python3.6/site-packages/ipykernel_launcher.py:43: RuntimeWarning: invalid value encountered in double_scalars\n"
     ]
    },
    {
     "name": "stdout",
     "output_type": "stream",
     "text": [
      "[ 0.11888506  0.10072414  0.10072414  0.10250575  0.10414943  0.10473563\n",
      "  0.10526437  0.10551724  0.10550575  0.10566667]\n"
     ]
    }
   ],
   "source": [
    "# Experiments section\n",
    "# Experiment 5: Voting_full dataset, NBC classifier\n",
    "error_matrix_voting_full_nbc = np.zeros((1000,10))\n",
    "\n",
    "for p in range(1,1001,1):\n",
    "    X_shuffled_train, y_shuffled_train, X_shuffled_test, y_shuffled_test = shuffle(X_voting_full, y_voting_full)\n",
    "    for q in range(1,11,1):\n",
    "        X_shuffled_train_partial, y_shuffled_train_partial = partial_training_set(X_shuffled_train, y_shuffled_train, (q/10))\n",
    "        nbc = NBC(feature_types = ['b', 'b', 'b', 'b', 'b', 'b', 'b', 'b', 'b', 'b', 'b', 'b', 'b', 'b', 'b', 'b'])\n",
    "        nbc.fit(X_shuffled_train_partial, y_shuffled_train_partial)\n",
    "        y_hat = []\n",
    "        for x in X_shuffled_test:\n",
    "            y_class, prob_dist = nbc.predict(x)\n",
    "            y_hat = y_hat + [y_class]\n",
    "        test_error = np.mean(y_hat != y_shuffled_test)\n",
    "        error_matrix_voting_full_nbc[p-1][q-1] = test_error\n",
    "\n",
    "error_matrix_mean_voting_full_nbc = error_matrix_voting_full_nbc.mean(0)\n",
    "print (error_matrix_mean_voting_full_nbc)"
   ]
  },
  {
   "cell_type": "code",
   "execution_count": 19,
   "metadata": {},
   "outputs": [
    {
     "name": "stdout",
     "output_type": "stream",
     "text": [
      "[ 0.0924023   0.07652874  0.06985057  0.06682759  0.06525287  0.06216092\n",
      "  0.06090805  0.05951724  0.05828736  0.05682759]\n"
     ]
    }
   ],
   "source": [
    "# Experiments section\n",
    "# Experiment 6: Voting_full dataset, Logistic regression classifier\n",
    "error_matrix_voting_full_logistic = np.zeros((1000,10))\n",
    "\n",
    "for p in range(1,1001,1):\n",
    "    X_shuffled_train, y_shuffled_train, X_shuffled_test, y_shuffled_test = shuffle(X_voting_full, y_voting_full)\n",
    "    for q in range(1,11,1):\n",
    "        X_shuffled_train_partial, y_shuffled_train_partial = partial_training_set(X_shuffled_train, y_shuffled_train, (q/10))\n",
    "        logistic_regression = LogisticRegression()\n",
    "        logistic_regression.fit(X_shuffled_train_partial, y_shuffled_train_partial)\n",
    "        y_hat = logistic_regression.predict(X_shuffled_test)\n",
    "        test_error = np.mean(y_hat != y_shuffled_test)\n",
    "        error_matrix_voting_full_logistic[p-1][q-1] = test_error\n",
    "\n",
    "error_matrix_mean_voting_full_logistic = error_matrix_voting_full_logistic.mean(0)\n",
    "print (error_matrix_mean_voting_full_logistic)"
   ]
  },
  {
   "cell_type": "code",
   "execution_count": 20,
   "metadata": {},
   "outputs": [
    {
     "data": {
      "image/png": "[encoded data removed]",
      "text/plain": [
       "<matplotlib.figure.Figure at 0x7f40eddd6b70>"
      ]
     },
     "metadata": {},
     "output_type": "display_data"
    }
   ],
   "source": [
    "# Plotting for the Voting full dataset\n",
    "x_plot = range(10,110,10)\n",
    "plt.plot(x_plot, error_matrix_mean_voting_full_nbc, label = 'Naive Bayes')\n",
    "plt.plot(x_plot, error_matrix_mean_voting_full_logistic, label = 'Logistic Regression')\n",
    "plt.legend()\n",
    "plt.show()"
   ]
  },
  {
   "cell_type": "code",
   "execution_count": null,
   "metadata": {
    "collapsed": true
   },
   "outputs": [],
   "source": []
  }
 ],
 "metadata": {
  "kernelspec": {
   "display_name": "Python 3",
   "language": "python",
   "name": "python3"
  },
  "language_info": {
   "codemirror_mode": {
    "name": "ipython",
    "version": 3
   },
   "file_extension": ".py",
   "mimetype": "text/x-python",
   "name": "python",
   "nbconvert_exporter": "python",
   "pygments_lexer": "ipython3",
   "version": "3.6.2"
  }
 },
 "nbformat": 4,
 "nbformat_minor": 2
}
