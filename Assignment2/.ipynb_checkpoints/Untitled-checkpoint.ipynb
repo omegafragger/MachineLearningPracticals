{
 "cells": [
  {
   "cell_type": "code",
   "execution_count": null,
   "metadata": {
    "collapsed": true
   },
   "outputs": [],
   "source": [
    "import _pickle as cp\n",
    "import numpy as np\n",
    "import matplotlib.pyplot as plt\n",
    "\n",
    "# Implementing a Naive Bayes Classifier\n",
    "class NBC:\n",
    "    '''Class implementing the Naive Bayes Classifier'''\n",
    "    \n",
    "    def __init__(self, feature_types, num_classes):\n",
    "        ''' Constructor of NBC to initialise the input parameters'''\n",
    "        self.feature_types = feature_types\n",
    "        self.num_classes = num_classes\n",
    "\n",
    "    "
   ]
  }
 ],
 "metadata": {
  "kernelspec": {
   "display_name": "Python 3",
   "language": "python",
   "name": "python3"
  },
  "language_info": {
   "codemirror_mode": {
    "name": "ipython",
    "version": 3
   },
   "file_extension": ".py",
   "mimetype": "text/x-python",
   "name": "python",
   "nbconvert_exporter": "python",
   "pygments_lexer": "ipython3",
   "version": "3.6.2"
  }
 },
 "nbformat": 4,
 "nbformat_minor": 2
}
